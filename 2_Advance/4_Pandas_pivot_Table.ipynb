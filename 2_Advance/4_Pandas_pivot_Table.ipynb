{
 "cells": [
  {
   "cell_type": "code",
   "execution_count": 1,
   "metadata": {},
   "outputs": [],
   "source": [
    "# Importing Libraries\n",
    "import pandas as pd\n",
    "from datasets import load_dataset\n",
    "import matplotlib.pyplot as plt  \n",
    "\n",
    "# Loading Data\n",
    "dataset = load_dataset('lukebarousse/data_jobs')\n",
    "df = dataset['train'].to_pandas()\n",
    "\n",
    "# Data Cleanup\n",
    "df['job_posted_date'] = pd.to_datetime(df['job_posted_date'])"
   ]
  },
  {
   "cell_type": "code",
   "execution_count": 3,
   "metadata": {},
   "outputs": [
    {
     "data": {
      "text/plain": [
       "job_title_short\n",
       "Business Analyst              49063\n",
       "Cloud Engineer                12331\n",
       "Data Analyst                 196075\n",
       "Data Engineer                186241\n",
       "Data Scientist               172286\n",
       "Machine Learning Engineer     14080\n",
       "Senior Data Analyst           29216\n",
       "Senior Data Engineer          44563\n",
       "Senior Data Scientist         36957\n",
       "Software Engineer             44929\n",
       "dtype: int64"
      ]
     },
     "execution_count": 3,
     "metadata": {},
     "output_type": "execute_result"
    }
   ],
   "source": [
    "df.pivot_table(index='job_title_short', aggfunc='size')"
   ]
  },
  {
   "cell_type": "code",
   "execution_count": 10,
   "metadata": {},
   "outputs": [],
   "source": [
    "df_job_country_salary = df.pivot_table(values='salary_year_avg', \n",
    "                        index='job_country',\n",
    "                        columns='job_title_short', \n",
    "                        aggfunc='median')"
   ]
  },
  {
   "cell_type": "code",
   "execution_count": 11,
   "metadata": {},
   "outputs": [
    {
     "data": {
      "text/plain": [
       "Index(['United States', 'India', 'United Kingdom', 'France', 'Germany',\n",
       "       'Spain'],\n",
       "      dtype='object', name='job_country')"
      ]
     },
     "execution_count": 11,
     "metadata": {},
     "output_type": "execute_result"
    }
   ],
   "source": [
    "top_countries = df['job_country'].value_counts().head(6).index\n",
    "\n",
    "top_countries"
   ]
  },
  {
   "cell_type": "code",
   "execution_count": 12,
   "metadata": {},
   "outputs": [
    {
     "data": {
      "text/html": [
       "<div>\n",
       "<style scoped>\n",
       "    .dataframe tbody tr th:only-of-type {\n",
       "        vertical-align: middle;\n",
       "    }\n",
       "\n",
       "    .dataframe tbody tr th {\n",
       "        vertical-align: top;\n",
       "    }\n",
       "\n",
       "    .dataframe thead th {\n",
       "        text-align: right;\n",
       "    }\n",
       "</style>\n",
       "<table border=\"1\" class=\"dataframe\">\n",
       "  <thead>\n",
       "    <tr style=\"text-align: right;\">\n",
       "      <th>job_title_short</th>\n",
       "      <th>Business Analyst</th>\n",
       "      <th>Cloud Engineer</th>\n",
       "      <th>Data Analyst</th>\n",
       "      <th>Data Engineer</th>\n",
       "      <th>Data Scientist</th>\n",
       "      <th>Machine Learning Engineer</th>\n",
       "      <th>Senior Data Analyst</th>\n",
       "      <th>Senior Data Engineer</th>\n",
       "      <th>Senior Data Scientist</th>\n",
       "      <th>Software Engineer</th>\n",
       "    </tr>\n",
       "    <tr>\n",
       "      <th>job_country</th>\n",
       "      <th></th>\n",
       "      <th></th>\n",
       "      <th></th>\n",
       "      <th></th>\n",
       "      <th></th>\n",
       "      <th></th>\n",
       "      <th></th>\n",
       "      <th></th>\n",
       "      <th></th>\n",
       "      <th></th>\n",
       "    </tr>\n",
       "  </thead>\n",
       "  <tbody>\n",
       "    <tr>\n",
       "      <th>United States</th>\n",
       "      <td>90000.0</td>\n",
       "      <td>116100.0</td>\n",
       "      <td>90000.0</td>\n",
       "      <td>125000.0</td>\n",
       "      <td>130000.0</td>\n",
       "      <td>150000.0</td>\n",
       "      <td>110000.0</td>\n",
       "      <td>150000.0</td>\n",
       "      <td>155000.0</td>\n",
       "      <td>130000.0</td>\n",
       "    </tr>\n",
       "    <tr>\n",
       "      <th>India</th>\n",
       "      <td>64800.0</td>\n",
       "      <td>NaN</td>\n",
       "      <td>100500.0</td>\n",
       "      <td>147500.0</td>\n",
       "      <td>114008.0</td>\n",
       "      <td>79200.0</td>\n",
       "      <td>111175.0</td>\n",
       "      <td>147500.0</td>\n",
       "      <td>149653.0</td>\n",
       "      <td>79200.0</td>\n",
       "    </tr>\n",
       "    <tr>\n",
       "      <th>United Kingdom</th>\n",
       "      <td>56700.0</td>\n",
       "      <td>NaN</td>\n",
       "      <td>87750.0</td>\n",
       "      <td>110000.0</td>\n",
       "      <td>105300.0</td>\n",
       "      <td>149653.0</td>\n",
       "      <td>111175.0</td>\n",
       "      <td>147500.0</td>\n",
       "      <td>157500.0</td>\n",
       "      <td>89100.0</td>\n",
       "    </tr>\n",
       "    <tr>\n",
       "      <th>France</th>\n",
       "      <td>89100.0</td>\n",
       "      <td>105968.0</td>\n",
       "      <td>69175.0</td>\n",
       "      <td>98301.5</td>\n",
       "      <td>88128.0</td>\n",
       "      <td>80850.0</td>\n",
       "      <td>111175.0</td>\n",
       "      <td>147500.0</td>\n",
       "      <td>157500.0</td>\n",
       "      <td>142500.0</td>\n",
       "    </tr>\n",
       "    <tr>\n",
       "      <th>Germany</th>\n",
       "      <td>89100.0</td>\n",
       "      <td>89100.0</td>\n",
       "      <td>103750.0</td>\n",
       "      <td>147500.0</td>\n",
       "      <td>131560.0</td>\n",
       "      <td>89100.0</td>\n",
       "      <td>111175.0</td>\n",
       "      <td>147500.0</td>\n",
       "      <td>157500.0</td>\n",
       "      <td>84975.0</td>\n",
       "    </tr>\n",
       "    <tr>\n",
       "      <th>Spain</th>\n",
       "      <td>86400.0</td>\n",
       "      <td>89100.0</td>\n",
       "      <td>91977.0</td>\n",
       "      <td>133000.0</td>\n",
       "      <td>88128.0</td>\n",
       "      <td>101029.0</td>\n",
       "      <td>111175.0</td>\n",
       "      <td>147500.0</td>\n",
       "      <td>157500.0</td>\n",
       "      <td>77050.0</td>\n",
       "    </tr>\n",
       "  </tbody>\n",
       "</table>\n",
       "</div>"
      ],
      "text/plain": [
       "job_title_short  Business Analyst  Cloud Engineer  Data Analyst  \\\n",
       "job_country                                                       \n",
       "United States             90000.0        116100.0       90000.0   \n",
       "India                     64800.0             NaN      100500.0   \n",
       "United Kingdom            56700.0             NaN       87750.0   \n",
       "France                    89100.0        105968.0       69175.0   \n",
       "Germany                   89100.0         89100.0      103750.0   \n",
       "Spain                     86400.0         89100.0       91977.0   \n",
       "\n",
       "job_title_short  Data Engineer  Data Scientist  Machine Learning Engineer  \\\n",
       "job_country                                                                 \n",
       "United States         125000.0        130000.0                   150000.0   \n",
       "India                 147500.0        114008.0                    79200.0   \n",
       "United Kingdom        110000.0        105300.0                   149653.0   \n",
       "France                 98301.5         88128.0                    80850.0   \n",
       "Germany               147500.0        131560.0                    89100.0   \n",
       "Spain                 133000.0         88128.0                   101029.0   \n",
       "\n",
       "job_title_short  Senior Data Analyst  Senior Data Engineer  \\\n",
       "job_country                                                  \n",
       "United States               110000.0              150000.0   \n",
       "India                       111175.0              147500.0   \n",
       "United Kingdom              111175.0              147500.0   \n",
       "France                      111175.0              147500.0   \n",
       "Germany                     111175.0              147500.0   \n",
       "Spain                       111175.0              147500.0   \n",
       "\n",
       "job_title_short  Senior Data Scientist  Software Engineer  \n",
       "job_country                                                \n",
       "United States                 155000.0           130000.0  \n",
       "India                         149653.0            79200.0  \n",
       "United Kingdom                157500.0            89100.0  \n",
       "France                        157500.0           142500.0  \n",
       "Germany                       157500.0            84975.0  \n",
       "Spain                         157500.0            77050.0  "
      ]
     },
     "execution_count": 12,
     "metadata": {},
     "output_type": "execute_result"
    }
   ],
   "source": [
    "df_job_country_salary = df_job_country_salary.loc[top_countries]\n",
    "\n",
    "df_job_country_salary"
   ]
  },
  {
   "cell_type": "code",
   "execution_count": 23,
   "metadata": {},
   "outputs": [
    {
     "data": {
      "image/png": "[encoded data removed]",
      "text/plain": [
       "<Figure size 640x480 with 1 Axes>"
      ]
     },
     "metadata": {},
     "output_type": "display_data"
    }
   ],
   "source": [
    "job_titles = ['Data Analyst', 'Data Engineer', 'Data Scientist']\n",
    "\n",
    "df_job_country_salary = df_job_country_salary[job_titles]\n",
    "\n",
    "df_job_country_salary.plot(kind= 'bar',rot = 45)\n",
    "plt.ylabel('Median Salary $')\n",
    "plt.xlabel('')\n",
    "plt.title('Top 6 Median Salary by Country and Job Title')\n",
    "plt.xticks(ha='right')\n",
    "plt.show()\n",
    "\n"
   ]
  },
  {
   "cell_type": "code",
   "execution_count": null,
   "metadata": {},
   "outputs": [],
   "source": []
  }
 ],
 "metadata": {
  "kernelspec": {
   "display_name": "base",
   "language": "python",
   "name": "python3"
  },
  "language_info": {
   "codemirror_mode": {
    "name": "ipython",
    "version": 3
   },
   "file_extension": ".py",
   "mimetype": "text/x-python",
   "name": "python",
   "nbconvert_exporter": "python",
   "pygments_lexer": "ipython3",
   "version": "3.11.7"
  }
 },
 "nbformat": 4,
 "nbformat_minor": 2
}
